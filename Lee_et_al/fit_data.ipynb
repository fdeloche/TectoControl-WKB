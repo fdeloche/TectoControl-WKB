{
 "cells": [
  {
   "cell_type": "code",
   "execution_count": null,
   "id": "a7482108",
   "metadata": {},
   "outputs": [],
   "source": [
    "import numpy as np\n",
    "import matplotlib.pyplot as pl\n",
    "import csv\n",
    "\n",
    "\n",
    "from ipywidgets import interact_manual, interact, Checkbox, FloatSlider\n",
    "\n",
    "from scipy.optimize import curve_fit"
   ]
  },
  {
   "cell_type": "code",
   "execution_count": null,
   "id": "83f48523",
   "metadata": {},
   "outputs": [],
   "source": [
    "cmap = [\n",
    "    [0, 1.0000, 1.0000],\n",
    "    [0, 0.8333, 1.0000],\n",
    "    [0, 0.6667, 1.0000],\n",
    "    [0, 0.5000, 1.0000],\n",
    "    [0, 0.3333, 1.0000],\n",
    "    [0, 0.1667, 1.0000],\n",
    "    [0, 0, 1.0000],\n",
    "    [0, 0, 0.8333],\n",
    "    [0, 0, 0.6667]\n",
    "]\n"
   ]
  },
  {
   "cell_type": "code",
   "execution_count": null,
   "id": "99f5fb31",
   "metadata": {},
   "outputs": [],
   "source": [
    "'''#count lines\n",
    "nlines=0\n",
    "with open('ratio_ratios.csv', 'r') as f:\n",
    "    reader=csv.reader(f)\n",
    "    for l in reader:\n",
    "        nlines+=1\n",
    "'''\n",
    "\n",
    "with open('freqs.csv', 'r') as f:\n",
    "    reader=csv.reader(f)\n",
    "    for l in reader:\n",
    "        freqs=np.array([float(freq) for freq in l])\n",
    "        \n",
    "n_levels=8\n",
    "n_freqs=len(freqs)\n",
    "\n",
    "\n",
    "data=np.zeros((n_freqs, n_levels))\n",
    "with open('ratio_ratios.csv', 'r') as f:\n",
    "    reader=csv.reader(f)\n",
    "    j=0\n",
    "    for l in reader:\n",
    "        data_=np.array([float(x) for x in l])\n",
    "        data[j]=data_\n",
    "        j+=1"
   ]
  },
  {
   "cell_type": "code",
   "execution_count": null,
   "id": "0f8d14df",
   "metadata": {},
   "outputs": [],
   "source": [
    "\n",
    "@interact(a=(1, 5, 0.3), b=(8, 11, 0.1))\n",
    "def myplot(a, b):\n",
    "    for i in range(n_levels):\n",
    "        pl.plot(freqs*1e-3, data[:, i], color=cmap[i])\n",
    "    \n",
    "    pl.plot(freqs*1e-3, 1+ 1/(1+np.exp(a*(freqs*1e-3-b) ) ), color='k')\n",
    "    pl.xlabel('Frequency (kHz)')\n",
    "    pl.xlim([5, 12])\n",
    "    pl.ylim([0, 3])"
   ]
  },
  {
   "cell_type": "markdown",
   "id": "7dbc704d",
   "metadata": {},
   "source": [
    "### Sigmoid fits"
   ]
  },
  {
   "cell_type": "code",
   "execution_count": null,
   "id": "067f5eda",
   "metadata": {},
   "outputs": [],
   "source": [
    "max_value=np.sqrt(2)"
   ]
  },
  {
   "cell_type": "code",
   "execution_count": null,
   "id": "e85b90e1",
   "metadata": {},
   "outputs": [],
   "source": [
    "data_m=np.maximum(data, 1)\n",
    "data_m=np.minimum(data_m, max_value)\n",
    "for i in range(n_levels):\n",
    "    pl.plot(freqs*1e-3, data_m[:, i], color=cmap[i])\n",
    "    pl.xlim([5, 12])\n",
    "    pl.ylim([0, 3])"
   ]
  },
  {
   "cell_type": "code",
   "execution_count": null,
   "id": "2b5b8c2a",
   "metadata": {},
   "outputs": [],
   "source": [
    "def mysigm(x, a, b): \n",
    "    return 1+(max_value-1)*1/(1+np.exp(a*(x-b)))\n",
    "    \n",
    "def mysigm_J(x, a, b): #does not work\n",
    "    sigm=mysigm(a, b, x)\n",
    "    sigm_prime=-sigm*(1-sigm)\n",
    "    return np.array([ (max_value-1)*sigm_prime*(x-b), -(max_value-1)*sigm_prime*a ]).T\n",
    "\n"
   ]
  },
  {
   "cell_type": "code",
   "execution_count": null,
   "id": "abe3fc6d",
   "metadata": {},
   "outputs": [],
   "source": []
  },
  {
   "cell_type": "code",
   "execution_count": null,
   "id": "bdf2af8d",
   "metadata": {},
   "outputs": [],
   "source": [
    "p=np.zeros((n_levels, 2))\n",
    "for i in range(n_levels):\n",
    "    \n",
    "    y=data_m[:, i]\n",
    "    ind_begin=np.sum(np.isnan(y[0:15]))\n",
    "    p0=np.array([5-2.5*i/4, 9.2-i**2*0.2])\n",
    "    popt, pcov = curve_fit(mysigm, freqs[ind_begin:17]*1e-3, y[ind_begin:17],p0, method='dogbox') #jac=mysigm_J)\n",
    "    \n",
    "    p[i]=popt"
   ]
  },
  {
   "cell_type": "code",
   "execution_count": null,
   "id": "ede24585",
   "metadata": {},
   "outputs": [],
   "source": [
    "p"
   ]
  },
  {
   "cell_type": "code",
   "execution_count": null,
   "id": "f71c3dc5",
   "metadata": {},
   "outputs": [],
   "source": [
    "for i in range(n_levels):\n",
    "    pl.plot(freqs*1e-3, data_m[:, i], color=cmap[i])\n",
    "    \n",
    "    pl.plot(freqs*1e-3, data[:, i], color=cmap[i], alpha=0.3)\n",
    "    pl.plot(freqs*1e-3, 1+ (max_value-1)/(1+np.exp(p[i][0]*(freqs*1e-3-p[i][1]) ) ), color=cmap[i],  linestyle='--')\n",
    "pl.xlabel('Frequency (kHz)')\n",
    "pl.xlim([5, 12])\n",
    "pl.ylim([0, 3])"
   ]
  },
  {
   "cell_type": "code",
   "execution_count": null,
   "id": "0413b794",
   "metadata": {},
   "outputs": [],
   "source": [
    "\n",
    "@interact(a=(1, 5, 0.3), b=(8, 11, 0.1))\n",
    "def myplot(a, b):\n",
    "    for i in range(n_levels):\n",
    "        pl.plot(freqs*1e-3, data_m[:, i], color=cmap[i])\n",
    "    \n",
    "    pl.plot(freqs*1e-3, 1+ 0.5/(1+np.exp(a*(freqs*1e-3-b) ) ), color='k')\n",
    "    pl.xlabel('Frequency (kHz)')\n",
    "    pl.xlim([5, 12])\n",
    "    pl.ylim([0, 3])"
   ]
  },
  {
   "cell_type": "markdown",
   "id": "6ac21c0c",
   "metadata": {},
   "source": [
    "### TM_T/BM_T"
   ]
  },
  {
   "cell_type": "code",
   "execution_count": null,
   "id": "f842510c",
   "metadata": {},
   "outputs": [],
   "source": [
    "tm_bm_ratio =  3+np.arange(n_levels)/n_levels*(1.7- 3)"
   ]
  },
  {
   "cell_type": "code",
   "execution_count": null,
   "id": "412c4887",
   "metadata": {},
   "outputs": [],
   "source": [
    "for i in range(n_levels):\n",
    "    pl.scatter(10+i*10, tm_bm_ratio[i], color=cmap[i], marker='+')\n",
    "pl.ylabel('TM_T/BM_T')\n",
    "pl.xlabel('Sound level')"
   ]
  },
  {
   "cell_type": "code",
   "execution_count": null,
   "id": "7d4ef792",
   "metadata": {},
   "outputs": [],
   "source": []
  }
 ],
 "metadata": {
  "kernelspec": {
   "display_name": "Python 3 (ipykernel)",
   "language": "python",
   "name": "python3"
  },
  "language_info": {
   "codemirror_mode": {
    "name": "ipython",
    "version": 3
   },
   "file_extension": ".py",
   "mimetype": "text/x-python",
   "name": "python",
   "nbconvert_exporter": "python",
   "pygments_lexer": "ipython3",
   "version": "3.11.7"
  }
 },
 "nbformat": 4,
 "nbformat_minor": 5
}
